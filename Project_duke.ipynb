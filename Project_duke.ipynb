{
 "cells": [
  {
   "cell_type": "markdown",
   "metadata": {},
   "source": [
    "# Data :\n",
    "\n",
    " -   The Brfss 2013 data comes from an observational study ,The data is collected by contacting individual households through telephonic interviews and recording the information about their health and habits.\n",
    "\n",
    "    \n",
    "    \n",
    "    \n",
    "    \n",
    " - We can rule out the possibility that it is not an Experimental study since it does not involve segregation of sample into multiple groups and subjecting them to conditions which are suspected to give varied outcomes.\n",
    "\n",
    "    \n",
    "    \n",
    "    \n",
    "    \n",
    " - Since it is not an Experimental study we can only establish a correlation or association between any given variables but not causation.\n",
    "\n",
    "    \n",
    "    \n",
    "    \n",
    "    \n",
    " - We can not generalize the results of this study to the Population since we cannot infer any causal relations within the dataset.\n",
    "\n",
    "\n",
    "- <b>Random Assignment<b> :\n",
    "    \n",
    "   <i>No,There is no random assignment used in this Data because it is just an Observational Study not an Experimental study and only Experimental study has random assignment."
   ]
  },
  {
   "cell_type": "code",
   "execution_count": null,
   "metadata": {},
   "outputs": [],
   "source": []
  },
  {
   "cell_type": "markdown",
   "metadata": {},
   "source": [
    "# Research Questions :\n",
    "\n",
    "\n",
    "##### First Research question :\n",
    "\n",
    " - Common conception is that people suffering with obesity may also develop diabetes eventually due to unhealthy dietary practices,I wanted to test this conception and see how it stands out given the data.For this I have taken 3 variables (One categorical and two numerical variables)diabete3,weight2,height3.[SOURCE](https://www.medicinenet.com/script/main/art.asp?articlekey=39840)\n",
    " \n",
    " \n",
    "\n",
    "##### Second Research Question :\n",
    "\n",
    " - For the second research question I am have taken up variables from main survey of Medicare access and main survey of genhlth.To see any relation between Medicare access and Overall health of the participants.We like to think that the access to medicare can positively affect the Overall health of the participants.\n",
    " \n",
    " \n",
    " \n",
    " ###### Third Research Question :\n",
    " \n",
    " - For this third Research question I have selected the variables like Alcohol Consumption , Ever Diagnosed with a Heart attack and Income Level , These together give us Two Numerical Variables and One categorical variable.I have selected these three variables to try to understand the Alcohol consumption levels of all the Income classes of the society and How many of them had heart attacks."
   ]
  },
  {
   "cell_type": "code",
   "execution_count": 1,
   "metadata": {},
   "outputs": [
    {
     "name": "stderr",
     "output_type": "stream",
     "text": [
      "Warning message:\n",
      "\"package 'dplyr' was built under R version 3.6.3\"\n",
      "Attaching package: 'dplyr'\n",
      "\n",
      "The following objects are masked from 'package:stats':\n",
      "\n",
      "    filter, lag\n",
      "\n",
      "The following objects are masked from 'package:base':\n",
      "\n",
      "    intersect, setdiff, setequal, union\n",
      "\n",
      "Warning message:\n",
      "\"package 'ggplot2' was built under R version 3.6.3\"Warning message:\n",
      "\"package 'tidyverse' was built under R version 3.6.3\"-- Attaching packages --------------------------------------- tidyverse 1.3.0 --\n",
      "v tibble  3.0.3     v purrr   0.3.4\n",
      "v tidyr   1.1.2     v stringr 1.4.0\n",
      "v readr   1.4.0     v forcats 0.5.0\n",
      "Warning message:\n",
      "\"package 'tibble' was built under R version 3.6.3\"Warning message:\n",
      "\"package 'tidyr' was built under R version 3.6.3\"Warning message:\n",
      "\"package 'readr' was built under R version 3.6.3\"Warning message:\n",
      "\"package 'purrr' was built under R version 3.6.3\"Warning message:\n",
      "\"package 'stringr' was built under R version 3.6.3\"Warning message:\n",
      "\"package 'forcats' was built under R version 3.6.3\"-- Conflicts ------------------------------------------ tidyverse_conflicts() --\n",
      "x dplyr::filter() masks stats::filter()\n",
      "x dplyr::lag()    masks stats::lag()\n"
     ]
    }
   ],
   "source": [
    "library(dplyr)\n",
    "library(ggplot2) \n",
    "library(tidyverse)"
   ]
  },
  {
   "cell_type": "code",
   "execution_count": 2,
   "metadata": {},
   "outputs": [],
   "source": [
    "# loading the brfss data\n",
    "\n",
    "load(\"C:/Users/SOMUNAIDU/Downloads/brfss2013.Rdata\")\n"
   ]
  },
  {
   "cell_type": "markdown",
   "metadata": {},
   "source": [
    "# Research Question 1"
   ]
  },
  {
   "cell_type": "code",
   "execution_count": 3,
   "metadata": {},
   "outputs": [],
   "source": [
    "# Changing the variable  name to convenience\n",
    "brfss <- brfss2013\n",
    "\n",
    "# Select the columns weight2,height3,diabete3\n",
    "diabetes <- brfss %>% select(weight2,height3,diabete3)\n",
    "\n",
    "\n",
    "# Filter the Null values in all the columns / variables\n",
    "diabetes <- diabetes %>% filter(!is.na(weight2),!is.na(height3),!is.na(diabete3))\n",
    "\n",
    "# Convert the data types of columns height 3 and weight2 into numeric\n",
    "diabetes <- diabetes %>% mutate(weight2=as.numeric(weight2),height3=as.numeric(height3))\n",
    "\n",
    "# Some entries in weight2 column has blank values , subset() function removes those values and give entries with only numbers\n",
    "diabetes <- subset(diabetes,weight2!=\"\")"
   ]
  },
  {
   "cell_type": "code",
   "execution_count": 4,
   "metadata": {},
   "outputs": [],
   "source": [
    "# Extract required string from the entire string like \"YES\" /\"NO\"\n",
    "\n",
    "diabetes <- diabetes %>% mutate(diabete3=str_extract(diabete3,\"^(Yes|No)\"))"
   ]
  },
  {
   "cell_type": "code",
   "execution_count": 5,
   "metadata": {},
   "outputs": [],
   "source": [
    "# Create a new varibale BMI (Body Mass Index) with the formula BMI = (weight)/height^2 where weight is in kgs and height in metres \n",
    "diabetes <- diabetes %>% mutate(BMI=(diabetes$weight2*(0.453592)/(((diabetes$height3/100)*(0.3048) **2))))\n",
    "\n",
    "\n",
    "# Create a new variable Obese with two values \"Yes\" if BMI > 30 and \"NO\" if BMI < 30\n",
    "diabetes <- diabetes %>% mutate(Obesity=ifelse(BMI>30,\"Yes\",\"No\"))"
   ]
  },
  {
   "cell_type": "code",
   "execution_count": 6,
   "metadata": {},
   "outputs": [
    {
     "name": "stderr",
     "output_type": "stream",
     "text": [
      "`summarise()` regrouping output by 'diabete3' (override with `.groups` argument)\n"
     ]
    }
   ],
   "source": [
    "# Using group by function to summarise the number of people with categories diabete3 and Obesity\n",
    "\n",
    "diabetes <- diabetes %>% group_by(diabete3,Obesity ) %>% summarise(counts=n())"
   ]
  },
  {
   "cell_type": "code",
   "execution_count": 7,
   "metadata": {},
   "outputs": [],
   "source": [
    "data_viz <- diabetes "
   ]
  },
  {
   "cell_type": "code",
   "execution_count": 8,
   "metadata": {},
   "outputs": [
    {
     "data": {
      "image/png": "[encoded data removed]",
      "text/plain": [
       "plot without title"
      ]
     },
     "metadata": {},
     "output_type": "display_data"
    }
   ],
   "source": [
    "# Normalising the counts column by the formula counts = counts/sum(counts) to get Percentages\n",
    "data_viz <- data_viz %>% mutate(counts=counts/sum(counts)) %>% ungroup()\n",
    "\n",
    "my_col=c(\"No Diabetes and Obesity\",\"No Diabetes But Obese\",\"Diabetic But Not Obese\",\"Diabetic and Obese\")\n",
    "\n",
    "data_viz <- data_viz %>% mutate(cases_combined=my_col)\n",
    "\n",
    "ggplot(data=data_viz,aes(cases_combined,y=counts))+geom_bar(stat='identity',fill='light green',color='black')+theme_bw()"
   ]
  },
  {
   "cell_type": "code",
   "execution_count": null,
   "metadata": {},
   "outputs": [],
   "source": []
  },
  {
   "cell_type": "markdown",
   "metadata": {},
   "source": [
    "# Research Question 2"
   ]
  },
  {
   "cell_type": "code",
   "execution_count": 9,
   "metadata": {},
   "outputs": [
    {
     "data": {
      "text/html": [
       "<table>\n",
       "<thead><tr><th scope=col>mean</th><th scope=col>median</th><th scope=col>std</th><th scope=col>max</th><th scope=col>min</th></tr></thead>\n",
       "<tbody>\n",
       "\t<tr><td>5.245885</td><td>3       </td><td>8.298807</td><td>76      </td><td>0       </td></tr>\n",
       "</tbody>\n",
       "</table>\n"
      ],
      "text/latex": [
       "\\begin{tabular}{r|lllll}\n",
       " mean & median & std & max & min\\\\\n",
       "\\hline\n",
       "\t 5.245885 & 3        & 8.298807 & 76       & 0       \\\\\n",
       "\\end{tabular}\n"
      ],
      "text/markdown": [
       "\n",
       "| mean | median | std | max | min |\n",
       "|---|---|---|---|---|\n",
       "| 5.245885 | 3        | 8.298807 | 76       | 0        |\n",
       "\n"
      ],
      "text/plain": [
       "  mean     median std      max min\n",
       "1 5.245885 3      8.298807 76  0  "
      ]
     },
     "metadata": {},
     "output_type": "display_data"
    }
   ],
   "source": [
    "hlth <- brfss %>% select(genhlth,hlthpln1,drvisits)\n",
    "\n",
    "hlth <- hlth %>% filter(!is.na(genhlth),!is.na(hlthpln1),!is.na(drvisits))\n",
    "\n",
    "hlth %>% summarise(mean=mean(drvisits),median=median(drvisits),std=sd(drvisits),max=max(drvisits),min=min(drvisits))"
   ]
  },
  {
   "cell_type": "code",
   "execution_count": 10,
   "metadata": {},
   "outputs": [],
   "source": [
    "# #Right skewed histogram\n",
    "# ggplot(data=hlth,aes(x=drvisits))+geom_histogram(fill='black',color='red')"
   ]
  },
  {
   "cell_type": "code",
   "execution_count": 11,
   "metadata": {},
   "outputs": [
    {
     "name": "stderr",
     "output_type": "stream",
     "text": [
      "`summarise()` ungrouping output (override with `.groups` argument)\n"
     ]
    },
    {
     "data": {
      "image/png": "[encoded data removed]",
      "text/plain": [
       "plot without title"
      ]
     },
     "metadata": {},
     "output_type": "display_data"
    }
   ],
   "source": [
    "genhlth_bar <- hlth %>% group_by(genhlth) %>% summarise(counts=n()) %>% mutate(percentage=counts/sum(counts)) %>% ungroup()\n",
    "ggplot(data=genhlth_bar,aes(x=genhlth,y=percentage))+geom_bar(stat='identity',fill='turquoise',color='red')+theme_bw()\n",
    "\n"
   ]
  },
  {
   "cell_type": "code",
   "execution_count": 12,
   "metadata": {},
   "outputs": [
    {
     "data": {
      "image/png": "[encoded data removed]",
      "text/plain": [
       "plot without title"
      ]
     },
     "metadata": {},
     "output_type": "display_data"
    }
   ],
   "source": [
    "# EDA with three combined variables\n",
    "\n",
    "ggplot(data=hlth,aes(x=genhlth,fill=hlthpln1))+geom_bar()+theme_bw()\n"
   ]
  },
  {
   "cell_type": "markdown",
   "metadata": {},
   "source": [
    "# Research Question 3 :"
   ]
  },
  {
   "cell_type": "code",
   "execution_count": null,
   "metadata": {},
   "outputs": [],
   "source": [
    "smoker <- brfss %>% select(smoke100,cvdinfr4,educa)\n",
    "\n",
    "\n",
    "\n",
    "smoker <- smoker %>% filter(!is.na(smoke100),!is.na(cvdinfr4),!is.na(educa)) %>% rename(smokes=smoke100,Heart_attack=cvdinfr4,Education=educa)\n",
    "\n",
    "smoker <- smoker %>% mutate(smokes=as.factor(smokes),Heart_attack=as.factor(Heart_attack),Education=as.factor(Education))\n",
    "\n",
    "smoker <- smoker %>% mutate(Education = str_extract(Education,\"^(.*\"))\n",
    "\n",
    "smoker"
   ]
  },
  {
   "cell_type": "code",
   "execution_count": null,
   "metadata": {},
   "outputs": [],
   "source": []
  },
  {
   "cell_type": "code",
   "execution_count": null,
   "metadata": {},
   "outputs": [],
   "source": []
  },
  {
   "cell_type": "code",
   "execution_count": null,
   "metadata": {},
   "outputs": [],
   "source": []
  },
  {
   "cell_type": "code",
   "execution_count": null,
   "metadata": {},
   "outputs": [],
   "source": []
  },
  {
   "cell_type": "code",
   "execution_count": null,
   "metadata": {},
   "outputs": [],
   "source": []
  }
 ],
 "metadata": {
  "kernelspec": {
   "display_name": "R",
   "language": "R",
   "name": "ir"
  },
  "language_info": {
   "codemirror_mode": "r",
   "file_extension": ".r",
   "mimetype": "text/x-r-source",
   "name": "R",
   "pygments_lexer": "r",
   "version": "3.6.1"
  }
 },
 "nbformat": 4,
 "nbformat_minor": 4
}
